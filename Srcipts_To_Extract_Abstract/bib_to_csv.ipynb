{
  "nbformat": 4,
  "nbformat_minor": 0,
  "metadata": {
    "colab": {
      "name": "bib_to_csv.ipynb",
      "provenance": []
    },
    "kernelspec": {
      "name": "python3",
      "display_name": "Python 3"
    },
    "language_info": {
      "name": "python"
    }
  },
  "cells": [
    {
      "cell_type": "code",
      "source": [
        "pip install bibtexparser"
      ],
      "metadata": {
        "colab": {
          "base_uri": "https://localhost:8080/"
        },
        "id": "F7p3JjENTKwR",
        "outputId": "bdb90ff8-876e-4aae-9851-aa07305c4325"
      },
      "execution_count": null,
      "outputs": [
        {
          "output_type": "stream",
          "name": "stdout",
          "text": [
            "Collecting bibtexparser\n",
            "  Downloading bibtexparser-1.2.0.tar.gz (46 kB)\n",
            "\u001b[?25l\r\u001b[K     |███████                         | 10 kB 12.8 MB/s eta 0:00:01\r\u001b[K     |██████████████                  | 20 kB 14.2 MB/s eta 0:00:01\r\u001b[K     |█████████████████████           | 30 kB 10.1 MB/s eta 0:00:01\r\u001b[K     |████████████████████████████    | 40 kB 8.6 MB/s eta 0:00:01\r\u001b[K     |████████████████████████████████| 46 kB 2.2 MB/s \n",
            "\u001b[?25hRequirement already satisfied: pyparsing>=2.0.3 in /usr/local/lib/python3.7/dist-packages (from bibtexparser) (3.0.7)\n",
            "Requirement already satisfied: future>=0.16.0 in /usr/local/lib/python3.7/dist-packages (from bibtexparser) (0.16.0)\n",
            "Building wheels for collected packages: bibtexparser\n",
            "  Building wheel for bibtexparser (setup.py) ... \u001b[?25l\u001b[?25hdone\n",
            "  Created wheel for bibtexparser: filename=bibtexparser-1.2.0-py3-none-any.whl size=36713 sha256=d3a8db357a306cba4b3d3d576d503292b094fdee2105a53f59547cdd68b00bce\n",
            "  Stored in directory: /root/.cache/pip/wheels/3e/13/1d/09c37a40f39ddd7b226719a797f1896a5b95d730de27e7a505\n",
            "Successfully built bibtexparser\n",
            "Installing collected packages: bibtexparser\n",
            "Successfully installed bibtexparser-1.2.0\n"
          ]
        }
      ]
    },
    {
      "cell_type": "code",
      "execution_count": null,
      "metadata": {
        "id": "7X8DtHLNRUSS"
      },
      "outputs": [],
      "source": [
        "import sys\n",
        "import bibtexparser as bp"
      ]
    },
    {
      "cell_type": "code",
      "source": [
        "with open(\"/content/drive/MyDrive/Research stuff/Olival2017-PrimaryDataBibliography-Parsed.bib\") as bibtex_file:\n",
        "    bd = bp.load(bibtex_file)\n",
        "    bd_entries = bd.entries\n",
        "    print(len(bd.entries))"
      ],
      "metadata": {
        "colab": {
          "base_uri": "https://localhost:8080/"
        },
        "id": "pv20K5b5RwRV",
        "outputId": "2cf5e13f-75fa-40a4-c630-5dbe2074d36e"
      },
      "execution_count": null,
      "outputs": [
        {
          "output_type": "stream",
          "name": "stdout",
          "text": [
            "1249\n"
          ]
        }
      ]
    },
    {
      "cell_type": "code",
      "source": [
        "import csv"
      ],
      "metadata": {
        "id": "y0_DK0jxZ9xJ"
      },
      "execution_count": null,
      "outputs": []
    },
    {
      "cell_type": "code",
      "source": [
        "i = 0\n",
        "with open('/content/drive/MyDrive/Research stuff/bib_to_csv.csv','w') as f1:\n",
        "  writer=csv.writer(f1, lineterminator='\\n',)\n",
        "  for entry in bd_entries:\n",
        "    try:\n",
        "      writer.writerow([entry[\"title\"]])\n",
        "      i = i + 1\n",
        "    except:\n",
        "      continue\n",
        "print (i)"
      ],
      "metadata": {
        "colab": {
          "base_uri": "https://localhost:8080/"
        },
        "id": "QaO1Dsv4YF2-",
        "outputId": "a3df11d1-9a5d-403c-d3f8-bcdf49abbe1e"
      },
      "execution_count": null,
      "outputs": [
        {
          "output_type": "stream",
          "name": "stdout",
          "text": [
            "1242\n"
          ]
        }
      ]
    }
  ]
}