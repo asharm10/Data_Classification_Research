{
  "nbformat": 4,
  "nbformat_minor": 0,
  "metadata": {
    "colab": {
      "name": "research_abstracts_classification.ipynb",
      "provenance": []
    },
    "kernelspec": {
      "name": "python3",
      "display_name": "Python 3"
    },
    "language_info": {
      "name": "python"
    }
  },
  "cells": [
    {
      "cell_type": "markdown",
      "source": [
        "Data Augmentation"
      ],
      "metadata": {
        "id": "kR_i4toPbVpC"
      }
    },
    {
      "cell_type": "code",
      "execution_count": null,
      "metadata": {
        "id": "uu2lC8oX5W2I"
      },
      "outputs": [],
      "source": [
        "import os\n",
        "import csv\n",
        "research_dir = \"/content/drive/MyDrive/Research stuff/dataset\"\n",
        "abstracts= []\n",
        "labels= []"
      ]
    },
    {
      "cell_type": "markdown",
      "source": [
        "Loading the dataset from the csv file to the list."
      ],
      "metadata": {
        "id": "4nj1Q1rQGrby"
      }
    },
    {
      "cell_type": "code",
      "source": [
        "for fname in os.listdir(research_dir):\n",
        "  print(fname)\n",
        "  f = open(os.path.join(research_dir, fname))\n",
        "  data = csv.reader(f)\n",
        "  for row in data:\n",
        "    if (row[0].strip() != ''):\n",
        "      abstracts.append(row[0].strip())\n",
        "      if fname == \"pos.csv\":\n",
        "        labels.append(2)\n",
        "      elif fname == \"neg_missing_primary_data.csv\":\n",
        "        labels.append(1)\n",
        "      elif fname == \"neg_not_about_viruses.csv\":\n",
        "        labels.append(0)\n"
      ],
      "metadata": {
        "colab": {
          "base_uri": "https://localhost:8080/"
        },
        "id": "aBOB3WWv_2FW",
        "outputId": "26ddee00-ebef-4f97-cf2a-b8e077d89857"
      },
      "execution_count": null,
      "outputs": [
        {
          "output_type": "stream",
          "name": "stdout",
          "text": [
            "pos.csv\n",
            "neg_missing_primary_data.csv\n",
            "neg_not_about_viruses.csv\n"
          ]
        }
      ]
    },
    {
      "cell_type": "markdown",
      "source": [
        "Testing if the datas are processed to the list or not"
      ],
      "metadata": {
        "id": "iWZR7mCFGmJF"
      }
    },
    {
      "cell_type": "code",
      "source": [
        "print(abstracts[0])\n",
        "print(labels[0])\n",
        "print(len(abstracts))\n",
        "print(len(labels))"
      ],
      "metadata": {
        "colab": {
          "base_uri": "https://localhost:8080/"
        },
        "id": "1eT432yeGRHS",
        "outputId": "fdcf4b9a-93e8-4a21-f29b-557a9b2d37fa"
      },
      "execution_count": null,
      "outputs": [
        {
          "output_type": "stream",
          "name": "stdout",
          "text": [
            "For 35 months, we monitored hantavirus activity in rodent populations in central Arizona. The most frequently captured hantavirus antibody-positive rodents were Peromyscus boylii and P. truei. Antibody-positive P. boylii were more frequently male (84%), older, and heavier, and they survived longer on trapping web sites than antibody-negative mice. The number of antibody-positive P. boylii was greater during high population densities than during low densities, while antibody prevalence was greater during low population densities. Virus transmission and incidence rates, also related to population densities, varied by trapping site. The spatial distribution of antibody-positive P. boylii varied by population density and reflected the species preference for dense chaparral habitats. The focal ranges of antibody-positive P. boylii also demonstrated a patchy distribution of hantavirus.\n",
            "2\n",
            "7781\n",
            "7781\n"
          ]
        }
      ]
    },
    {
      "cell_type": "code",
      "source": [
        "from keras.preprocessing.text import Tokenizer\n",
        "from keras.preprocessing.sequence import pad_sequences\n",
        "import numpy as np"
      ],
      "metadata": {
        "id": "r_ifcXJNG14U"
      },
      "execution_count": null,
      "outputs": []
    },
    {
      "cell_type": "markdown",
      "source": [
        "Tokenizing the data"
      ],
      "metadata": {
        "id": "rz8DdHfSG7yB"
      }
    },
    {
      "cell_type": "code",
      "source": [
        "maxlen = len((max((abstracts), key=lambda x: len(x.split()))).split())\n",
        "tokenizer = Tokenizer()\n",
        "tokenizer.fit_on_texts(abstracts)\n",
        "print(maxlen)\n",
        "\n",
        "X = tokenizer.texts_to_sequences(abstracts)\n",
        "word_index = tokenizer.word_index\n",
        "print('Found %s unique tokens.' % len(word_index))\n",
        "vocab_size = len(word_index) + 1\n",
        "\n",
        "X = pad_sequences(X, maxlen=maxlen)\n",
        "Y = np.asarray(labels)"
      ],
      "metadata": {
        "colab": {
          "base_uri": "https://localhost:8080/"
        },
        "id": "dgMi9qFDG5pD",
        "outputId": "b4afd69b-bf3b-424f-d6ac-ac48df68209f"
      },
      "execution_count": null,
      "outputs": [
        {
          "output_type": "stream",
          "name": "stdout",
          "text": [
            "657\n",
            "Found 41353 unique tokens.\n"
          ]
        }
      ]
    },
    {
      "cell_type": "markdown",
      "source": [
        "Shuffling the Data"
      ],
      "metadata": {
        "id": "sfKFGOYLPt4H"
      }
    },
    {
      "cell_type": "code",
      "source": [
        "indices = np.arange(X.shape[0])\n",
        "np.random.shuffle(indices)\n",
        "X = X[indices]\n",
        "Y = Y[indices]"
      ],
      "metadata": {
        "id": "7OTHowerI1vU"
      },
      "execution_count": null,
      "outputs": []
    },
    {
      "cell_type": "markdown",
      "source": [
        "Checking if the data is tokenized"
      ],
      "metadata": {
        "id": "O7tlTX9vPz03"
      }
    },
    {
      "cell_type": "code",
      "source": [
        "print(X[0])\n",
        "Y[0]"
      ],
      "metadata": {
        "colab": {
          "base_uri": "https://localhost:8080/"
        },
        "id": "O1Hp0-prPvrH",
        "outputId": "c92b1f8b-49ce-4a9f-e012-df890d5e194a"
      },
      "execution_count": null,
      "outputs": [
        {
          "output_type": "stream",
          "name": "stdout",
          "text": [
            "[   0    0    0    0    0    0    0    0    0    0    0    0    0    0\n",
            "    0    0    0    0    0    0    0    0    0    0    0    0    0    0\n",
            "    0    0    0    0    0    0    0    0    0    0    0    0    0    0\n",
            "    0    0    0    0    0    0    0    0    0    0    0    0    0    0\n",
            "    0    0    0    0    0    0    0    0    0    0    0    0    0    0\n",
            "    0    0    0    0    0    0    0    0    0    0    0    0    0    0\n",
            "    0    0    0    0    0    0    0    0    0    0    0    0    0    0\n",
            "    0    0    0    0    0    0    0    0    0    0    0    0    0    0\n",
            "    0    0    0    0    0    0    0    0    0    0    0    0    0    0\n",
            "    0    0    0    0    0    0    0    0    0    0    0    0    0    0\n",
            "    0    0    0    0    0    0    0    0    0    0    0    0    0    0\n",
            "    0    0    0    0    0    0    0    0    0    0    0    0    0    0\n",
            "    0    0    0    0    0    0    0    0    0    0    0    0    0    0\n",
            "    0    0    0    0    0    0    0    0    0    0    0    0    0    0\n",
            "    0    0    0    0    0    0    0    0    0    0    0    0    0    0\n",
            "    0    0    0    0    0    0    0    0    0    0    0    0    0    0\n",
            "    0    0    0    0    0    0    0    0    0    0    0    0    0    0\n",
            "    0    0    0    0    0    0    0    0    0    0    0    0    0    0\n",
            "    0    0    0    0    0    0    0    0    0    0    0    0    0    0\n",
            "    0    0    0    0    0    0    0    0    0    0    0    0    0    0\n",
            "    0    0    0    0    0    0    0    0    0    0    0    0    0    0\n",
            "    0    0    0    0    0    0    0    0    0    0    0    0    0    0\n",
            "    0    0    0    0    0    0    0    0    0    0    0    0    0    0\n",
            "    0    0    0    0    0    0    0    0    0    0    0    0    0    0\n",
            "    0    0    0    0    0    0    0    0    0    0    0    0    0    0\n",
            "    0    0    0    0    0    0    0    0    0    0    0    0    0    0\n",
            "    0    0    0    0    0    0    0    0    0    0    0    0    0    0\n",
            "    0    0    0    0    0    0    0    0    0    0    0    0    0    0\n",
            "    0    0    0    0    0    0    0    0    0    0    0    0    0    0\n",
            "    0    0    0    0    0    0    0    0    0    0    0    0    0    0\n",
            "    0    0    0    0    0    0    0    0    0    0    0    0    0    0\n",
            "    0    0    0    0    0    0    0    0    0    0    0    0    0    0\n",
            "    0    0    0    0    0    0    0    0    0    0    0    0    0    0\n",
            "    0    0    0    0    0    0    0    0    0    0    0    0    0    0\n",
            "    0    0    0    0    0    0    0    0    0    0    0    0    0    0\n",
            "    0    0    0    0    0    0    0    0    0    0    0    0    0    0\n",
            "    0    0    0    0    0    0    0    0    0    0    0    0    0    0\n",
            "    0    0    0    0    0    0    0    0    0    0    0    0    0    0\n",
            "    0    0    0    0    0    0    0    0    0    0    0    0    0    0\n",
            "    0    0    0    0    0    0    0    0    0    0    0    0    0    0\n",
            "    0    0    0    0    0    0    0    0    0    0    0    0    0    0\n",
            "    0    0    0  284 1976   13   22  168   30   34 1508 1926  452 1798\n",
            "   52    3  158   76    1   30   13   53  521  160   15  255  708    3\n",
            "  255 1929  194   18 1583   60    4    1  308    3 1325  744  163  200\n",
            "   40 1840  635   84  682   23  374    1 1011  253  195   14    2  255\n",
            "  149    5  839   76    1  410    2  284 1976 2108  547    5 1577   29\n",
            " 4072    3  829 2060  356  196    3  799   21  181    2    1   30]\n"
          ]
        },
        {
          "output_type": "execute_result",
          "data": {
            "text/plain": [
              "1"
            ]
          },
          "metadata": {},
          "execution_count": 7
        }
      ]
    },
    {
      "cell_type": "code",
      "source": [
        "len(X)"
      ],
      "metadata": {
        "colab": {
          "base_uri": "https://localhost:8080/"
        },
        "id": "VGKNfvcvQSbc",
        "outputId": "7900b0bb-4142-4c8e-8d4b-ed51bed73e0a"
      },
      "execution_count": null,
      "outputs": [
        {
          "output_type": "execute_result",
          "data": {
            "text/plain": [
              "7781"
            ]
          },
          "metadata": {},
          "execution_count": 8
        }
      ]
    },
    {
      "cell_type": "markdown",
      "source": [
        "Dividing the data into training and testing set"
      ],
      "metadata": {
        "id": "HvKONoaKQoGy"
      }
    },
    {
      "cell_type": "code",
      "source": [
        "X_train = X[:5000]\n",
        "X_test = X[5000:]\n",
        "\n",
        "Y_train = Y[:5000]\n",
        "Y_test = Y[5000:]"
      ],
      "metadata": {
        "id": "PRrHdnyjP8hf"
      },
      "execution_count": null,
      "outputs": []
    },
    {
      "cell_type": "code",
      "source": [
        ""
      ],
      "metadata": {
        "id": "cQtDJUMlV1g4"
      },
      "execution_count": null,
      "outputs": []
    },
    {
      "cell_type": "code",
      "source": [
        "arr= [0,0,0]\n",
        "for y in Y_test:\n",
        "  arr[y] += 1\n",
        "print(arr)\n"
      ],
      "metadata": {
        "colab": {
          "base_uri": "https://localhost:8080/",
          "height": 131
        },
        "id": "W883BhvbX2oj",
        "outputId": "131abbd2-fc6b-43e4-b3fd-5c2d78db4bce"
      },
      "execution_count": null,
      "outputs": [
        {
          "output_type": "error",
          "ename": "SyntaxError",
          "evalue": "ignored",
          "traceback": [
            "\u001b[0;36m  File \u001b[0;32m\"<ipython-input-1-024f9e25cf9b>\"\u001b[0;36m, line \u001b[0;32m4\u001b[0m\n\u001b[0;31m    print('Pos:'arr[0])\u001b[0m\n\u001b[0m                  ^\u001b[0m\n\u001b[0;31mSyntaxError\u001b[0m\u001b[0;31m:\u001b[0m invalid syntax\n"
          ]
        }
      ]
    },
    {
      "cell_type": "markdown",
      "source": [
        "Further dividing the training set to training and validation set"
      ],
      "metadata": {
        "id": "NEr0C2zPQz7U"
      }
    },
    {
      "cell_type": "code",
      "source": [
        "X_val = X_train[:1000]\n",
        "X_train = X_train[1000:]\n",
        "\n",
        "Y_val = Y_train[:1000]\n",
        "Y_train = Y_train[1000:]"
      ],
      "metadata": {
        "id": "8S404bUrQ7UV"
      },
      "execution_count": null,
      "outputs": []
    },
    {
      "cell_type": "markdown",
      "source": [
        "Using Bidirectional LSTM"
      ],
      "metadata": {
        "id": "UCYRmfjYRbaI"
      }
    },
    {
      "cell_type": "code",
      "source": [
        "import keras\n",
        "from keras import Sequential\n",
        "from keras.layers import Embedding, LSTM, Dense, Dropout, Bidirectional,Flatten\n",
        "embedding_size=32\n",
        "model=Sequential()\n",
        "model.add(Embedding(vocab_size, embedding_size, input_length=maxlen))\n",
        "model.add(Bidirectional(LSTM(32,return_sequences=True)))\n",
        "model.add(Flatten())\n",
        "model.add(Dense(3, activation='softmax'))\n",
        "print(model.summary())"
      ],
      "metadata": {
        "colab": {
          "base_uri": "https://localhost:8080/"
        },
        "id": "In-EKFk-ReT5",
        "outputId": "6780842e-b83c-4007-8a9f-f85913dff790"
      },
      "execution_count": null,
      "outputs": [
        {
          "output_type": "stream",
          "name": "stdout",
          "text": [
            "Model: \"sequential\"\n",
            "_________________________________________________________________\n",
            " Layer (type)                Output Shape              Param #   \n",
            "=================================================================\n",
            " embedding (Embedding)       (None, 657, 32)           1323328   \n",
            "                                                                 \n",
            " bidirectional (Bidirectiona  (None, 657, 64)          16640     \n",
            " l)                                                              \n",
            "                                                                 \n",
            " flatten (Flatten)           (None, 42048)             0         \n",
            "                                                                 \n",
            " dense (Dense)               (None, 3)                 126147    \n",
            "                                                                 \n",
            "=================================================================\n",
            "Total params: 1,466,115\n",
            "Trainable params: 1,466,115\n",
            "Non-trainable params: 0\n",
            "_________________________________________________________________\n",
            "None\n"
          ]
        }
      ]
    },
    {
      "cell_type": "code",
      "source": [
        "model.compile(optimizer='adam',\n",
        "              loss='sparse_categorical_crossentropy',\n",
        "              metrics=['accuracy'])"
      ],
      "metadata": {
        "id": "ZMPBUVkYTiCA"
      },
      "execution_count": null,
      "outputs": []
    },
    {
      "cell_type": "code",
      "source": [
        "history = model.fit(X_train, Y_train, epochs=2,validation_data=(X_val, Y_val))"
      ],
      "metadata": {
        "colab": {
          "base_uri": "https://localhost:8080/"
        },
        "id": "PpCGvXV6S9B7",
        "outputId": "50c07e45-48a9-4308-9fd9-43e707c67068"
      },
      "execution_count": null,
      "outputs": [
        {
          "output_type": "stream",
          "name": "stdout",
          "text": [
            "Epoch 1/5\n",
            "125/125 [==============================] - 49s 364ms/step - loss: 0.5115 - accuracy: 0.7933 - val_loss: 0.2395 - val_accuracy: 0.9190\n",
            "Epoch 2/5\n",
            "125/125 [==============================] - 46s 365ms/step - loss: 0.0922 - accuracy: 0.9688 - val_loss: 0.2370 - val_accuracy: 0.9220\n",
            "Epoch 3/5\n",
            "125/125 [==============================] - 47s 376ms/step - loss: 0.0278 - accuracy: 0.9952 - val_loss: 0.2740 - val_accuracy: 0.9190\n",
            "Epoch 4/5\n",
            "125/125 [==============================] - 47s 374ms/step - loss: 0.0147 - accuracy: 0.9977 - val_loss: 0.2832 - val_accuracy: 0.9080\n",
            "Epoch 5/5\n",
            "125/125 [==============================] - 46s 368ms/step - loss: 0.0133 - accuracy: 0.9973 - val_loss: 0.3022 - val_accuracy: 0.9220\n"
          ]
        }
      ]
    },
    {
      "cell_type": "code",
      "source": [
        "results = model.evaluate(X_test,Y_test)\n",
        "print(results)"
      ],
      "metadata": {
        "colab": {
          "base_uri": "https://localhost:8080/"
        },
        "id": "v_ZU2w2ccQgN",
        "outputId": "d86b11b2-80c6-42ba-92e5-89a9b3232e07"
      },
      "execution_count": null,
      "outputs": [
        {
          "output_type": "stream",
          "name": "stdout",
          "text": [
            "87/87 [==============================] - 7s 83ms/step - loss: 0.3439 - accuracy: 0.9126\n",
            "[0.34391823410987854, 0.9126213788986206]\n"
          ]
        }
      ]
    },
    {
      "cell_type": "code",
      "source": [
        "history_dict = history.history\n",
        "history_dict.keys()"
      ],
      "metadata": {
        "colab": {
          "base_uri": "https://localhost:8080/"
        },
        "id": "SecUipISc-SC",
        "outputId": "d66237f8-96b8-4ddf-d30e-daf82f9adcf4"
      },
      "execution_count": null,
      "outputs": [
        {
          "output_type": "execute_result",
          "data": {
            "text/plain": [
              "dict_keys(['loss', 'accuracy', 'val_loss', 'val_accuracy'])"
            ]
          },
          "metadata": {},
          "execution_count": 16
        }
      ]
    },
    {
      "cell_type": "code",
      "source": [
        "import matplotlib.pyplot as plt\n",
        "\n",
        "acc = history.history['accuracy']\n",
        "val_acc = history.history['val_accuracy']\n",
        "loss = history.history['loss']\n",
        "val_loss = history.history['val_loss']\n",
        "\n",
        "epochs = range(1, len(acc) + 1)\n",
        "\n",
        "# \"bo\" is for \"blue dot\"\n",
        "plt.plot(epochs, loss, 'bo', label='Training loss')\n",
        "# b is for \"solid blue line\"\n",
        "plt.plot(epochs, val_loss, 'b', label='Validation loss')\n",
        "plt.title('Training and validation loss')\n",
        "plt.xlabel('Epochs')\n",
        "plt.ylabel('Loss')\n",
        "plt.legend()\n",
        "\n",
        "plt.show()"
      ],
      "metadata": {
        "colab": {
          "base_uri": "https://localhost:8080/",
          "height": 295
        },
        "id": "LIr0v7lXdLhB",
        "outputId": "abf3bf32-d170-4537-f82a-ab1f37d9ad13"
      },
      "execution_count": null,
      "outputs": [
        {
          "output_type": "display_data",
          "data": {
            "text/plain": [
              "<Figure size 432x288 with 1 Axes>"
            ],
            "image/png": "[encoded data removed]"
          },
          "metadata": {
            "needs_background": "light"
          }
        }
      ]
    },
    {
      "cell_type": "code",
      "source": [
        "plt.clf()   # clear figure\n",
        "acc_values = history_dict['accuracy']\n",
        "val_acc_values = history_dict['val_accuracy']\n",
        "\n",
        "plt.plot(epochs, acc, 'bo', label='Training acc')\n",
        "plt.plot(epochs, val_acc, 'b', label='Validation acc')\n",
        "plt.title('Training and validation accuracy')\n",
        "plt.xlabel('Epochs')\n",
        "plt.ylabel('Loss')\n",
        "plt.legend()\n",
        "\n",
        "plt.show()"
      ],
      "metadata": {
        "colab": {
          "base_uri": "https://localhost:8080/",
          "height": 295
        },
        "id": "tTL_pmMcdXse",
        "outputId": "ef80fecc-0462-439d-843c-e6f3a7a72cd1"
      },
      "execution_count": null,
      "outputs": [
        {
          "output_type": "display_data",
          "data": {
            "text/plain": [
              "<Figure size 432x288 with 1 Axes>"
            ],
            "image/png": "[encoded data removed]"
          },
          "metadata": {
            "needs_background": "light"
          }
        }
      ]
    }
  ]
}